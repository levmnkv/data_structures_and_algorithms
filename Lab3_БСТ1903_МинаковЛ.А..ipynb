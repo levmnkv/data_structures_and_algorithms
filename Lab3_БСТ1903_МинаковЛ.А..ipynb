{
 "cells": [
  {
   "cell_type": "markdown",
   "id": "surface-thermal",
   "metadata": {},
   "source": [
    "# Лабораторная работа №3\n",
    "## Методы поиска подстроки в строке\n",
    "### Выполнил студент группы БСТ1903 Минаков Л.А."
   ]
  },
  {
   "cell_type": "markdown",
   "id": "joined-shade",
   "metadata": {},
   "source": [
    "#### Задание №1"
   ]
  },
  {
   "cell_type": "code",
   "execution_count": 1,
   "id": "strategic-element",
   "metadata": {},
   "outputs": [],
   "source": [
    "#Кнут-Моррис-Пратт\n",
    "def prefix(t):\n",
    "    v = [0]*len(t)\n",
    "    for i in range(1,len(t)):\n",
    "        k = v[i-1]\n",
    "        while k > 0 and t[k] != t[i]:\n",
    "            k = v[k-1]\n",
    "        if t[k] == t[i]:\n",
    "            k = k + 1\n",
    "        v[i] = k\n",
    "    return v\n",
    "\n",
    "def kmp(s,t):\n",
    "    \"\"\"\n",
    "    t - образ\n",
    "    s - строка\n",
    "    \"\"\"\n",
    "    index = -1\n",
    "    f = prefix(t)\n",
    "    k = 0\n",
    "    for i in range(len(s)):\n",
    "        while k > 0 and t[k] != s[i]:\n",
    "            k = f[k-1]\n",
    "        if t[k] == s[i]:\n",
    "            k = k + 1\n",
    "        if k == len(t):\n",
    "            index = i - len(t) + 1\n",
    "            break\n",
    "    return index"
   ]
  },
  {
   "cell_type": "code",
   "execution_count": 2,
   "id": "viral-financing",
   "metadata": {},
   "outputs": [],
   "source": [
    "#Бойера-Мура\n",
    "def createShiftTable(t):\n",
    "    S = set()  # уникальные символы в образе\n",
    "    M = len(t) # число символов в образе\n",
    "    d = {}     # словарь смещений\n",
    "    \n",
    "    for i in range(M-2, -1, -1): # итерации с предпоследнего символа\n",
    "        if t[i] not in S:        # если символ еще не добавлен в таблицу\n",
    "            d[t[i]] = M-i-1\n",
    "            S.add(t[i])\n",
    "    \n",
    "    if t[M-1] not in S:     # отдельно формируем последний символ\n",
    "        d[t[M-1]] = M\n",
    "    \n",
    "    d['*'] = M              # смещения для прочих символов\n",
    "    return d\n",
    "\n",
    "def bmh(s, t):\n",
    "    \"\"\"\n",
    "    t - образ\n",
    "    s - строка\n",
    "    \"\"\"\n",
    "    N = len(s)\n",
    "    M = len(t)\n",
    "    d = createShiftTable(t)\n",
    "    if N >= M:\n",
    "        i = M-1       # счетчик проверяемого символа в строке\n",
    "    \n",
    "        while(i < N):\n",
    "            k = 0\n",
    "            j = 0\n",
    "            flBreak = False\n",
    "            for j in range(M-1, -1, -1):\n",
    "                if s[i-k] != t[j]:\n",
    "                    if j == M-1:\n",
    "                        off = d[s[i]] if d.get(s[i], False) else d['*']  # смещение, если не равен последний символ образа\n",
    "                    else:\n",
    "                        off = d[t[j]]   # смещение, если не равен не последний символ образа\n",
    "    \n",
    "                    i += off    # смещение счетчика строки\n",
    "                    flBreak = True  # если несовпадение символа, то flBreak = True\n",
    "                    break\n",
    "    \n",
    "                k += 1          # смещение для сравниваемого символа в строке\n",
    "    \n",
    "            if not flBreak:          # если дошли до начала образа, значит, все его символы совпали\n",
    "                return i-k+1\n",
    "                break\n",
    "    return -1"
   ]
  },
  {
   "cell_type": "markdown",
   "id": "persistent-hawaii",
   "metadata": {},
   "source": [
    "#### Стандартная функция поиска"
   ]
  },
  {
   "cell_type": "code",
   "execution_count": 3,
   "id": "intense-affiliation",
   "metadata": {},
   "outputs": [],
   "source": [
    "def defaultSearch(s, t):\n",
    "    \"\"\"\n",
    "    t - образ\n",
    "    s - строка\n",
    "    \"\"\"\n",
    "    return s.find(t)"
   ]
  },
  {
   "cell_type": "markdown",
   "id": "metric-outline",
   "metadata": {},
   "source": [
    "#### Вывод результатов"
   ]
  },
  {
   "cell_type": "code",
   "execution_count": 4,
   "id": "environmental-cleaners",
   "metadata": {},
   "outputs": [
    {
     "name": "stdout",
     "output_type": "stream",
     "text": [
      "Алгоритм поиска Кнута-Морриса-Пратта. Образ b c. Строка ab cd. Результат: 1. Время 2.4799999948754703e-05.\n",
      "Алгоритм поиска Упрощенный Бойера-Мура. Образ b c. Строка ab cd. Результат: 1. Время 2.3899999973764352e-05.\n",
      "Алгоритм поиска Стандартный поиск. Образ b c. Строка ab cd. Результат: 1. Время 6.600000006073969e-06.\n",
      "\n",
      "Алгоритм поиска Кнута-Морриса-Пратта. Образ b c. Строка ab cd. Результат: 1. Время 1.3000000024021574e-05.\n",
      "Алгоритм поиска Кнута-Морриса-Пратта. Образ B c. Строка ab cd. Результат: -1. Время 1.1499999970965291e-05.\n"
     ]
    }
   ],
   "source": [
    "import time\n",
    "def search(s, t, searchType = kmp, ignoreCase = False, ignoreSpace = False):\n",
    "    \"\"\"\n",
    "    t - образ\n",
    "    s - строка\n",
    "    \"\"\"\n",
    "    if ignoreCase:\n",
    "        s = s.lower()\n",
    "        t = t.lower()\n",
    "    if ignoreSpace:\n",
    "        s = s.replace(\" \", \"\")\n",
    "        t = t.replace(\" \", \"\")\n",
    "    startTime = time.perf_counter()\n",
    "    res = searchType(s, t)\n",
    "    finalTime = time.perf_counter() - startTime\n",
    "    if searchType == kmp:\n",
    "        stStr = \"Кнута-Морриса-Пратта\"\n",
    "    elif searchType == bmh:\n",
    "        stStr = \"Упрощенный Бойера-Мура\"\n",
    "    else:\n",
    "        stStr = \"Стандартный поиск\"\n",
    "    print(\"Алгоритм поиска {}. Образ {}. Строка {}. Результат: {}. Время {}.\".format(stStr, t, s, res, finalTime))\n",
    "    \n",
    "s = \"ab cd\"\n",
    "t = \"b c\"\n",
    "search(s, t, kmp)\n",
    "search(s, t, bmh)\n",
    "search(s, t, defaultSearch)\n",
    "print()\n",
    "\n",
    "search(s, t, kmp, ignoreSpace = False)\n",
    "\n",
    "t = \"B c\"\n",
    "search(s, t, kmp, ignoreCase = False)"
   ]
  },
  {
   "cell_type": "markdown",
   "id": "straight-marble",
   "metadata": {},
   "source": [
    "#### Задание №2"
   ]
  },
  {
   "cell_type": "code",
   "execution_count": 5,
   "id": "super-projection",
   "metadata": {},
   "outputs": [],
   "source": [
    "import math\n",
    "# Проверка существует ли решение\n",
    "def isSolvable(board):\n",
    "    sum=int(0)\n",
    "    for i in range(len(board)):\n",
    "        for j in range(i, len(board)):\n",
    "            if board[i]==0:\n",
    "                sum=sum+i//4 + 1\n",
    "            elif board[j]==0:\n",
    "                continue\n",
    "            elif board[i]>board[j]:\n",
    "                sum=sum+1\n",
    "    if sum%2==0:\n",
    "        return True\n",
    "    return False"
   ]
  },
  {
   "cell_type": "code",
   "execution_count": 6,
   "id": "outer-dryer",
   "metadata": {},
   "outputs": [
    {
     "name": "stdout",
     "output_type": "stream",
     "text": [
      "[15, 14, 10, 13, 9, 10, 14, 15]\n"
     ]
    }
   ],
   "source": [
    "from queue import PriorityQueue\n",
    "\n",
    "N = 4\n",
    "\n",
    "def moves(position):\n",
    "    blank = position.index(0)\n",
    "    i, j = divmod(blank, N)\n",
    "    offsets = []\n",
    "    if i > 0: offsets.append(-N)     # вниз\n",
    "    if i < N - 1: offsets.append(N)  # вверх\n",
    "    if j > 0: offsets.append(-1)     # вправо\n",
    "    if j < N - 1: offsets.append(1)  # влево\n",
    "    for offset in offsets:\n",
    "        swap = blank + offset\n",
    "        yield tuple(position[swap] if x==blank else position[blank] if x==swap else position[x] for x in range(N*N))\n",
    "\n",
    "\n",
    "class Position:\n",
    "    def __init__(self, position, start_distance):\n",
    "        self.position = position\n",
    "        self.start_distance = start_distance\n",
    "\n",
    "    def __lt__(self, other):\n",
    "        return self.start_distance < other.start_distance\n",
    "\n",
    "\n",
    "SOLVED = (1, 2, 3, 4, 5, 6, 7, 8, 9, 10, 11, 12, 13, 14, 15, 0)\n",
    "\n",
    "start = [1, 2, 3, 4, 5, 6, 7, 8, 13, 9, 11, 12, 10, 14, 15, 0]\n",
    "\n",
    "if not isSolvable(start):\n",
    "    print('Нерешаемая позиция')\n",
    "else:\n",
    "    start = tuple(start)\n",
    "    p = Position(start, 0)\n",
    "    candidates = PriorityQueue()\n",
    "    candidates.put(p)\n",
    "    visited = set([p])\n",
    "    \n",
    "    came_from = {p.position: None}\n",
    "    \n",
    "    while p.position != SOLVED:\n",
    "        p = candidates.get()\n",
    "        for k in moves(p.position):\n",
    "            if k not in visited:\n",
    "                candidates.put(Position(k, p.start_distance + 1))\n",
    "                came_from[k] = p\n",
    "                visited.add(k)\n",
    "    path = []\n",
    "    prev = p\n",
    "    while p.position != start:\n",
    "        p = came_from[p.position]\n",
    "        number = p.position[prev.position.index(0)]\n",
    "        path.append(number)\n",
    "        prev = p\n",
    "    path.reverse()\n",
    "\n",
    "    print(path)"
   ]
  }
 ],
 "metadata": {
  "kernelspec": {
   "display_name": "Python 3",
   "language": "python",
   "name": "python3"
  },
  "language_info": {
   "codemirror_mode": {
    "name": "ipython",
    "version": 3
   },
   "file_extension": ".py",
   "mimetype": "text/x-python",
   "name": "python",
   "nbconvert_exporter": "python",
   "pygments_lexer": "ipython3",
   "version": "3.9.1"
  }
 },
 "nbformat": 4,
 "nbformat_minor": 5
}
