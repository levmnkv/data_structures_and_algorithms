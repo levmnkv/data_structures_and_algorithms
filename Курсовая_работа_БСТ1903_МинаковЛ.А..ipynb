{
 "cells": [
  {
   "cell_type": "markdown",
   "id": "military-faculty",
   "metadata": {},
   "source": [
    "# Курсовая работа по дисциплине СиАОД\n",
    "## Выполнил студент группы БСТ1903 Минаков Л.А.\n",
    "### Задача №1\n",
    "\n",
    "«Треугольник с максимальным периметром»\n",
    "\n",
    "Массив A состоит из целых положительных чисел - длин отрезков. Составьте из трех отрезков такой треугольник, чтобы его периметр был максимально возможным. Если невозможно составить треугольник с положительной площадью - функция возвращает 0."
   ]
  },
  {
   "cell_type": "code",
   "execution_count": 3,
   "id": "iraqi-scientist",
   "metadata": {},
   "outputs": [
    {
     "name": "stdout",
     "output_type": "stream",
     "text": [
      "5\n",
      "0\n",
      "10\n",
      "8\n"
     ]
    }
   ],
   "source": [
    "def maxPer(side):\n",
    "    max = 0\n",
    "    if len(side) < 3 or len(side) > 10000:\n",
    "        raise ValueError\n",
    "    for i in side:\n",
    "        if i < 1 or i > 10**6:\n",
    "             raise ValueError\n",
    "    for a in range(len(side)-2):\n",
    "        for b in range(a+1, len(side)-1):\n",
    "            for c in range(b+1, len(side)):\n",
    "                p = (side[a] + side[b] + side[c]) / 2\n",
    "                S = p * (p - side[a]) * (p - side[b]) * (p - side[c])\n",
    "                if S <= 0:\n",
    "                    continue\n",
    "                P = side[a] + side[b] + side[c]\n",
    "                if P > max:\n",
    "                    max = P\n",
    "    return max\n",
    "\n",
    "print(maxPer([2,1,2]))\n",
    "print(maxPer([1,2,1]))\n",
    "print(maxPer([3,2,3,4]))\n",
    "print(maxPer([3,6,2,3]))"
   ]
  },
  {
   "cell_type": "markdown",
   "id": "narrative-commonwealth",
   "metadata": {},
   "source": [
    "### Задача №2\n",
    "\n",
    "«Максимальное число»\n",
    "\n",
    "Дан массив неотрицательных целых чисел nums. Расположите их в таком порядке, чтобы вместе они образовали максимально возможное число."
   ]
  },
  {
   "cell_type": "code",
   "execution_count": 2,
   "id": "successful-trustee",
   "metadata": {},
   "outputs": [
    {
     "name": "stdout",
     "output_type": "stream",
     "text": [
      "210\n",
      "9534330\n",
      "1\n",
      "10\n"
     ]
    }
   ],
   "source": [
    "def maxNum(nums):\n",
    "    if len(nums) < 1 or len(nums) > 100:\n",
    "        raise ValueError\n",
    "    for i in nums:\n",
    "        if i < 1 or i > 10**9:\n",
    "             raise ValueError\n",
    "    def dualComp(a, b):\n",
    "        ab = int(str(a) + str(b))\n",
    "        ba = int(str(b) + str(a))\n",
    "        if ab > ba:\n",
    "            return True\n",
    "        else:\n",
    "            return False\n",
    "    \n",
    "    def sortArr(arr):\n",
    "        for i in range(len(arr) - 1):\n",
    "            max = i\n",
    "            for j in range(i + 1, len(arr)):\n",
    "                if not dualComp(arr[max], arr[j]):\n",
    "                    max = j\n",
    "            arr[i], arr[max] = arr[max], arr[i]\n",
    "    \n",
    "    sortArr(nums)\n",
    "    return ''.join(str(e) for e in nums)\n",
    "\n",
    "\n",
    "print(maxNum([10,2]))\n",
    "print(maxNum([3,30,34,5,9]))\n",
    "print(maxNum([1]))\n",
    "print(maxNum([10]))"
   ]
  },
  {
   "cell_type": "markdown",
   "id": "different-quarter",
   "metadata": {},
   "source": [
    "### Задача №3\n",
    "\n",
    "«Сортировка диагоналей в матрице»\n",
    "\n",
    "Дана матрица mat размером m * n, значения - целочисленные. Напишите функцию, сортирующую каждую диагональ матрицы по возрастанию и возвращающую получившуюся матрицу."
   ]
  },
  {
   "cell_type": "code",
   "execution_count": 4,
   "id": "pediatric-fiber",
   "metadata": {},
   "outputs": [
    {
     "name": "stdout",
     "output_type": "stream",
     "text": [
      "[[1, 1, 1, 1], [1, 2, 2, 2], [1, 2, 3, 3]]\n",
      "[[5, 17, 4, 1, 52, 7], [11, 11, 25, 45, 8, 69], [14, 23, 25, 44, 58, 15], [22, 27, 31, 36, 50, 66], [84, 28, 75, 33, 55, 68]]\n"
     ]
    }
   ],
   "source": [
    "def sortDiagMatrix(matrix):\n",
    "    \n",
    "    \n",
    "    def sortDiag(matrix, i, s3 = 0, s4 = 0):\n",
    "        diag = []\n",
    "        s1 = s3\n",
    "        s2 = s4\n",
    "        while True:\n",
    "            try:\n",
    "                diag.append(matrix[s1][s2])\n",
    "                s1 += 1\n",
    "                s2 += 1\n",
    "            except IndexError:\n",
    "                break\n",
    "        diag.sort()\n",
    "        s1 = s3\n",
    "        s2 = s4\n",
    "        for j in range(len(diag)):\n",
    "            matrix[s1][s2] = diag[j]\n",
    "            s1 += 1\n",
    "            s2 += 1\n",
    "            \n",
    "            \n",
    "    if (len(matrix) < 1 or len(matrix) > 100) or (len(matrix[0]) < 1 or len(matrix[0]) > 100):\n",
    "        raise ValueError\n",
    "    for i in matrix:\n",
    "        for j in i:\n",
    "            if j < 1 or j > 100:\n",
    "                 raise ValueError\n",
    "    for i in range(len(matrix)):\n",
    "        sortDiag(matrix, i, s3 = i)\n",
    "    for i in range(1, len(matrix[0])):\n",
    "        sortDiag(matrix, i, s4 = i)\n",
    "    return matrix\n",
    "\n",
    "print(sortDiagMatrix([[3, 3, 1, 1], [2, 2, 1, 2], [1, 1, 1, 2]]))\n",
    "print(sortDiagMatrix([[11, 25, 66, 1, 69, 7], [23, 55, 17, 45, 15, 52], [75, 31, 36, 44, 58, 8], [22, 27, 33, 25, 68, 4], [84, 28, 14, 11, 5, 50]]))"
   ]
  },
  {
   "cell_type": "markdown",
   "id": "numerical-plumbing",
   "metadata": {},
   "source": [
    "### Задача №4\n",
    "\n",
    "«Шарики и стрелы»\n",
    "\n",
    "Некоторые сферические шарики распределены по двухмерному пространству. Для каждого шарика даны xкоординаты начала и конца его горизонтального диаметра. Так как пространство двумерно, то yкоординаты не имеют значения в данной задаче. Координата xstart всегда меньше xend. Стрелу можно выстрелить строго вертикально (вдоль yоси) из разных точек xоси. Шарик с координатами xstart и xend уничтожается стрелой, если она была выпущена из такой позиции x, что xstart ⩽ x ⩽ xend. Когда стрела выпущена, она летит в пространстве бесконечное время (уничтожая все шарики на пути). Дан массив points, где points[i] = [xstart, xend]. Напишите функцию, возвращающую минимальное количество стрел, которые нужно выпустить, чтобы уничтожить все шарики."
   ]
  },
  {
   "cell_type": "code",
   "execution_count": 5,
   "id": "stuffed-export",
   "metadata": {},
   "outputs": [
    {
     "name": "stdout",
     "output_type": "stream",
     "text": [
      "2\n",
      "4\n",
      "2\n",
      "1\n",
      "1\n"
     ]
    }
   ],
   "source": [
    "def arrowNum(mass):\n",
    "    count = 1\n",
    "    if len(mass)==0:\n",
    "        count=0\n",
    "    else:\n",
    "        m=0\n",
    "        mass.sort()\n",
    "        for i in range(len(mass)-1):\n",
    "            if mass[m][1]<mass[i+1][0]:\n",
    "                count+=1\n",
    "                m=i+1\n",
    "            elif mass[m][0]<=mass[i+1][0] and mass[m][1]>=mass[i+1][1]:\n",
    "                m=i+1\n",
    "    return count    \n",
    "          \n",
    "print(arrowNum([[10,16],[2,8],[1,6],[7,12]]))\n",
    "print(arrowNum([[1,2],[3,4],[5,6],[7,8]]))\n",
    "print(arrowNum([[1,2],[2,3],[3,4],[4,5]]))\n",
    "print(arrowNum([[1,2]]))\n",
    "print(arrowNum([[2,3],[2,3]]))"
   ]
  },
  {
   "cell_type": "markdown",
   "id": "contrary-shoulder",
   "metadata": {},
   "source": [
    "### Задача №5\n",
    "\n",
    "«Стопки монет»\n",
    "\n",
    "На столе стоят 3n стопок монет. Вы и ваши друзья Алиса и Боб забираете стопки монет по следующему алгоритму:\n",
    "\n",
    "Вы выбираете 3 стопки монет из оставшихся на столе. Алиса забирает себе стопку с максимальным количеством монет. Вы забираете одну из двух оставшихся стопок. Боб забирает последнюю стопку. Если еще остались стопки, то действия повторяются с первого шага. Дан массив целых положительных чисел piles. Напишите функцию, возвращающую максимальное число монет, которое вы можете получить."
   ]
  },
  {
   "cell_type": "code",
   "execution_count": 7,
   "id": "coordinated-palace",
   "metadata": {},
   "outputs": [
    {
     "name": "stdout",
     "output_type": "stream",
     "text": [
      "9\n",
      "4\n",
      "18\n"
     ]
    }
   ],
   "source": [
    "def maxCoins(arr):\n",
    "    you = 0\n",
    "    while len(arr) > 0:\n",
    "        threeCoins = []\n",
    "        for i in range(2):\n",
    "            threeCoins.append(arr.pop(arr.index(max(arr))))\n",
    "        arr.pop(arr.index(min(arr)))\n",
    "        you += threeCoins[1]\n",
    "    return you\n",
    "\n",
    "print(maxCoins([2, 4, 1, 2, 7, 8]))\n",
    "print(maxCoins([2, 4, 5]))\n",
    "print(maxCoins([9, 8, 7, 6, 5, 1, 2, 3, 4]))"
   ]
  },
  {
   "cell_type": "markdown",
   "id": "severe-accused",
   "metadata": {},
   "source": [
    "### Задача №6\n",
    "\n",
    "«Объединение отрезков» Дан массив отрезков intervals, в котором intervals[i] = [start_i, end_i], некоторые отрезки могут пересекаться. Напишите функцию, которая объединяет все пересекающиеся отрезки в один и возвращает новый массив непересекающихся отрезков."
   ]
  },
  {
   "cell_type": "code",
   "execution_count": 8,
   "id": "intimate-intranet",
   "metadata": {},
   "outputs": [
    {
     "name": "stdout",
     "output_type": "stream",
     "text": [
      "[[1, 6], [8, 10], [15, 18]]\n",
      "[[1, 5]]\n"
     ]
    }
   ],
   "source": [
    "def intervals(interval):\n",
    "    interval.sort()\n",
    "    i=0\n",
    "    while i <len(interval)-1:\n",
    "        if interval[i][1]>=interval[i+1][0]:\n",
    "            a=interval.pop(0)\n",
    "            b=interval.pop(0)\n",
    "            interval.insert(0, [a[0],b[1]])\n",
    "        else:\n",
    "            i+=1            \n",
    "    return interval\n",
    "\n",
    "print(intervals([[1,3],[2,6],[8,10],[15,18]]))\n",
    "print(intervals([[1,4],[4,5]]))"
   ]
  },
  {
   "cell_type": "markdown",
   "id": "postal-exchange",
   "metadata": {},
   "source": [
    "### Задача №7\n",
    "\n",
    "Даны две строки: s1 и s2 с одинаковым размером, проверьте, может ли некоторая перестановка строки s1 “победить” некоторую перестановку строки s2 или наоборот. Строка x может “победить” строку y (обе имеют размер n), если x[i]> = y [i] (в алфавитном порядке) для всех i от 0 до n-1."
   ]
  },
  {
   "cell_type": "code",
   "execution_count": 9,
   "id": "social-headset",
   "metadata": {},
   "outputs": [
    {
     "name": "stdout",
     "output_type": "stream",
     "text": [
      "True\n",
      "False\n"
     ]
    }
   ],
   "source": [
    "def strFight(s1,s2):\n",
    "    if len(s1) != len(s2) or len(s1) > 10**5 or len(s2) > 10**5:\n",
    "        raise ValueError\n",
    "    count1 = 0\n",
    "    count2 = 0\n",
    "    s1 = ''.join(sorted(s1))\n",
    "    s2 = ''.join(sorted(s2))\n",
    "    for i in range(len(s1)):\n",
    "        if s1[i] >= s2[i]:\n",
    "            count1 += 1\n",
    "        if s1[i] <= s2[i]:\n",
    "            count2 += 1\n",
    "    if count1 == len(s1) or count2 == len(s1):\n",
    "        return True\n",
    "    return False\n",
    "\n",
    "print(strFight('abc','xya'))\n",
    "print(strFight('abe','acd'))"
   ]
  },
  {
   "cell_type": "markdown",
   "id": "infinite-stretch",
   "metadata": {},
   "source": [
    "### Задача №8\n",
    "\n",
    "Дана строка s, вернуть самую длинную полиндромную подстроку в s."
   ]
  },
  {
   "cell_type": "code",
   "execution_count": 10,
   "id": "quantitative-tenant",
   "metadata": {},
   "outputs": [
    {
     "name": "stdout",
     "output_type": "stream",
     "text": [
      "bab\n",
      "bb\n"
     ]
    }
   ],
   "source": [
    "def isPalindrome(word):\n",
    "    word = word.lower()\n",
    "    word1 = ''.join(reversed(word))\n",
    "    if word1 == word:\n",
    "        return True\n",
    "    return False\n",
    "  \n",
    "    \n",
    "def longestPalindrome(s):\n",
    "    max = 1\n",
    "    ans = s[0]\n",
    "    for a in range(len(s) - 1):\n",
    "        word = s[a]\n",
    "        for b in range(a+1, len(s)):\n",
    "            word += s[b]\n",
    "            if isPalindrome(word):\n",
    "                l = len(word)\n",
    "                if l > max:\n",
    "                    max = l\n",
    "                    ans = word\n",
    "    return ans\n",
    "\n",
    "print(longestPalindrome('babad'))\n",
    "print(longestPalindrome('cbbd'))"
   ]
  },
  {
   "cell_type": "markdown",
   "id": "respected-satellite",
   "metadata": {},
   "source": [
    "### Задача №9\n",
    "\n",
    "Вернуть количество отдельных непустых подстрок текста, которые могут быть записаны как конкатенация некоторой строки с самой собой (т.е. она может быть записана, как a + a, где a - некоторая строка)."
   ]
  },
  {
   "cell_type": "code",
   "execution_count": 11,
   "id": "million-strap",
   "metadata": {},
   "outputs": [
    {
     "name": "stdout",
     "output_type": "stream",
     "text": [
      "3\n"
     ]
    }
   ],
   "source": [
    "def isConcatenationPossible(word,s):\n",
    "    for a in range(len(s) - 1):\n",
    "        guess = s[a]\n",
    "        for b in range(a+1, len(s)):\n",
    "            guess += s[b]\n",
    "            if guess == word * 2:\n",
    "                return True\n",
    "    return False\n",
    "\n",
    "\n",
    "def numOfConcatenationStrings(s):\n",
    "    count = 0\n",
    "    mem = []\n",
    "    for a in range(len(s) - 1):\n",
    "        guess = s[a]\n",
    "        if isConcatenationPossible(guess,s):\n",
    "                if guess not in mem:\n",
    "                    count += 1\n",
    "                    mem.append(guess)\n",
    "        for b in range(a+1, len(s)):\n",
    "            guess += s[b]\n",
    "            if isConcatenationPossible(guess,s):\n",
    "                if guess not in mem:\n",
    "                    count += 1\n",
    "                    mem.append(guess)\n",
    "    return count\n",
    "\n",
    "print(numOfConcatenationStrings('abcabcabc'))"
   ]
  },
  {
   "cell_type": "markdown",
   "id": "behavioral-saskatchewan",
   "metadata": {},
   "source": [
    "### Вывод\n",
    "\n",
    "  В ходе проделанной работы были выполнены задачи на нахождение максимального периметра треугольника, максимального числа, сортировки диагоналей матрицы, 3 задачи по работе со строками, задачи с монеткаки, интервалами, шариками истрелами.\n",
    "  Выполняя поставленные задачи нами были изученны и применены основные методы работы с данными."
   ]
  }
 ],
 "metadata": {
  "kernelspec": {
   "display_name": "Python 3",
   "language": "python",
   "name": "python3"
  },
  "language_info": {
   "codemirror_mode": {
    "name": "ipython",
    "version": 3
   },
   "file_extension": ".py",
   "mimetype": "text/x-python",
   "name": "python",
   "nbconvert_exporter": "python",
   "pygments_lexer": "ipython3",
   "version": "3.9.1"
  }
 },
 "nbformat": 4,
 "nbformat_minor": 5
}
